{
 "cells": [
  {
   "cell_type": "code",
   "execution_count": 99,
   "metadata": {
    "collapsed": true
   },
   "outputs": [],
   "source": [
    "from bs4 import BeautifulSoup"
   ]
  },
  {
   "cell_type": "code",
   "execution_count": 100,
   "metadata": {
    "collapsed": true
   },
   "outputs": [],
   "source": [
    "location=r'/home/eva_01/Desktop/medvedkovo/photos/2019_05_04/2019-05-04_v2/ex1.xml'"
   ]
  },
  {
   "cell_type": "code",
   "execution_count": 101,
   "metadata": {
    "collapsed": true
   },
   "outputs": [],
   "source": [
    "class XMLparserBbox:\n",
    "    \n",
    "    def __init__(self):\n",
    "        \n",
    "        self.ListInfo=[]\n",
    "    \n",
    "    def parse_file(self,location):\n",
    "        \n",
    "        handler=open(location).read()\n",
    "        soup=BeautifulSoup(handler,'html.parser')\n",
    "        height,width=soup.find('nrows').string,soup.find('ncols').string\n",
    "        for object_item in soup.find_all('object'):\n",
    "            vehicle = object_item.find('name').string #vehicle name\n",
    "            occluded = object_item.find('occluded').string #is occluded ?\n",
    "            date = object_item.find('date').string #date creation\n",
    "            object_id = object_item.find('id').string #object id\n",
    "            bound_type = object_item.find('type').string #bound type\n",
    "            \n",
    "            #extract coords\n",
    "            coord_list=[]\n",
    "            for i in object_item.find_all('pt'):\n",
    "                coord_list.append((i.find_all('x')[0].string,i.find_all('y')[0].string))\n",
    "                \n",
    "            self.ListInfo.append((height,width,vehicle,occluded,date,object_id,bound_type,coord_list))\n",
    "    \n",
    "        return self.ListInfo  "
   ]
  },
  {
   "cell_type": "code",
   "execution_count": 102,
   "metadata": {
    "collapsed": true
   },
   "outputs": [],
   "source": [
    "parser=XMLparserBbox()"
   ]
  },
  {
   "cell_type": "code",
   "execution_count": 103,
   "metadata": {},
   "outputs": [
    {
     "data": {
      "text/plain": [
       "[('720',\n",
       "  '960',\n",
       "  'car',\n",
       "  'no',\n",
       "  '04-May-2019 20:14:43',\n",
       "  '0',\n",
       "  'bounding_box',\n",
       "  [('379', '94'), ('450', '94'), ('450', '213'), ('379', '213')]),\n",
       " ('720',\n",
       "  '960',\n",
       "  'car',\n",
       "  'no',\n",
       "  '04-May-2019 20:14:52',\n",
       "  '1',\n",
       "  'bounding_box',\n",
       "  [('296', '87'), ('362', '87'), ('362', '193'), ('296', '193')]),\n",
       " ('720',\n",
       "  '960',\n",
       "  'car',\n",
       "  'no',\n",
       "  '04-May-2019 20:15:11',\n",
       "  '2',\n",
       "  'bounding_box',\n",
       "  [('234', '172'), ('305', '172'), ('305', '284'), ('234', '284')]),\n",
       " ('720',\n",
       "  '960',\n",
       "  'car',\n",
       "  'no',\n",
       "  '04-May-2019 20:15:23',\n",
       "  '3',\n",
       "  'bounding_box',\n",
       "  [('180', '262'), ('255', '262'), ('255', '372'), ('180', '372')]),\n",
       " ('720',\n",
       "  '960',\n",
       "  'car',\n",
       "  'no',\n",
       "  '04-May-2019 20:15:36',\n",
       "  '4',\n",
       "  'bounding_box',\n",
       "  [('500', '227'), ('563', '227'), ('563', '335'), ('500', '335')]),\n",
       " ('720',\n",
       "  '960',\n",
       "  'car',\n",
       "  'no',\n",
       "  '04-May-2019 20:15:53',\n",
       "  '5',\n",
       "  'bounding_box',\n",
       "  [('424', '284'), ('493', '284'), ('493', '380'), ('424', '380')]),\n",
       " ('720',\n",
       "  '960',\n",
       "  'car',\n",
       "  'no',\n",
       "  '04-May-2019 20:16:02',\n",
       "  '6',\n",
       "  'bounding_box',\n",
       "  [('358', '357'), ('430', '357'), ('430', '468'), ('358', '468')]),\n",
       " ('720',\n",
       "  '960',\n",
       "  'car',\n",
       "  'no',\n",
       "  '04-May-2019 20:16:11',\n",
       "  '7',\n",
       "  'bounding_box',\n",
       "  [('306', '468'), ('380', '468'), ('380', '580'), ('306', '580')]),\n",
       " ('720',\n",
       "  '960',\n",
       "  'car',\n",
       "  'no',\n",
       "  '04-May-2019 20:16:21',\n",
       "  '8',\n",
       "  'bounding_box',\n",
       "  [('236', '552'), ('313', '552'), ('313', '675'), ('236', '675')]),\n",
       " ('720',\n",
       "  '960',\n",
       "  'car',\n",
       "  'no',\n",
       "  '04-May-2019 20:16:39',\n",
       "  '9',\n",
       "  'bounding_box',\n",
       "  [('613', '353'), ('686', '353'), ('686', '473'), ('613', '473')]),\n",
       " ('720',\n",
       "  '960',\n",
       "  'car',\n",
       "  'no',\n",
       "  '04-May-2019 20:16:51',\n",
       "  '10',\n",
       "  'bounding_box',\n",
       "  [('464', '420'), ('531', '420'), ('531', '537'), ('464', '537')]),\n",
       " ('720',\n",
       "  '960',\n",
       "  'car',\n",
       "  'no',\n",
       "  '04-May-2019 20:16:59',\n",
       "  '11',\n",
       "  'bounding_box',\n",
       "  [('500', '596'), ('571', '596'), ('571', '717'), ('500', '717')]),\n",
       " ('720',\n",
       "  '960',\n",
       "  'car',\n",
       "  'yes',\n",
       "  '04-May-2019 20:17:13',\n",
       "  '12',\n",
       "  'bounding_box',\n",
       "  [('607', '671'), ('668', '671'), ('668', '717'), ('607', '717')]),\n",
       " ('720',\n",
       "  '960',\n",
       "  'car',\n",
       "  'no',\n",
       "  '04-May-2019 20:17:29',\n",
       "  '13',\n",
       "  'bounding_box',\n",
       "  [('677', '599'), ('753', '599'), ('753', '717'), ('677', '717')]),\n",
       " ('720',\n",
       "  '960',\n",
       "  'car',\n",
       "  'no',\n",
       "  '04-May-2019 20:17:52',\n",
       "  '14',\n",
       "  'bounding_box',\n",
       "  [('747', '535'), ('828', '535'), ('828', '652'), ('747', '652')])]"
      ]
     },
     "execution_count": 103,
     "metadata": {},
     "output_type": "execute_result"
    }
   ],
   "source": [
    "parser.parse_file(location)"
   ]
  },
  {
   "cell_type": "code",
   "execution_count": null,
   "metadata": {
    "collapsed": true
   },
   "outputs": [],
   "source": []
  }
 ],
 "metadata": {
  "kernelspec": {
   "display_name": "Python 3",
   "language": "python",
   "name": "python3"
  },
  "language_info": {
   "codemirror_mode": {
    "name": "ipython",
    "version": 3
   },
   "file_extension": ".py",
   "mimetype": "text/x-python",
   "name": "python",
   "nbconvert_exporter": "python",
   "pygments_lexer": "ipython3",
   "version": "3.6.2"
  }
 },
 "nbformat": 4,
 "nbformat_minor": 2
}
